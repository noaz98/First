{
 "cells": [
  {
   "cell_type": "code",
   "execution_count": 4,
   "metadata": {},
   "outputs": [
    {
     "ename": "NameError",
     "evalue": "name 'self' is not defined",
     "output_type": "error",
     "traceback": [
      "\u001b[1;31m---------------------------------------------------------------------------\u001b[0m",
      "\u001b[1;31mNameError\u001b[0m                                 Traceback (most recent call last)",
      "\u001b[1;32mc:\\Users\\USER\\Desktop\\py\\Ex20172380.ipynb Cell 1'\u001b[0m in \u001b[0;36m<cell line: 18>\u001b[1;34m()\u001b[0m\n\u001b[0;32m     <a href='vscode-notebook-cell:/c%3A/Users/USER/Desktop/py/Ex20172380.ipynb#ch0000000?line=15'>16</a>\u001b[0m data \u001b[39m=\u001b[39m [\u001b[39minput\u001b[39m(\u001b[39mstr\u001b[39m(\u001b[39m'\u001b[39m\u001b[39m단어를 입력하세요: \u001b[39m\u001b[39m'\u001b[39m))]\n\u001b[0;32m     <a href='vscode-notebook-cell:/c%3A/Users/USER/Desktop/py/Ex20172380.ipynb#ch0000000?line=16'>17</a>\u001b[0m data\n\u001b[1;32m---> <a href='vscode-notebook-cell:/c%3A/Users/USER/Desktop/py/Ex20172380.ipynb#ch0000000?line=17'>18</a>\u001b[0m node1 \u001b[39m=\u001b[39m Node()\n",
      "\u001b[1;32mc:\\Users\\USER\\Desktop\\py\\Ex20172380.ipynb Cell 1'\u001b[0m in \u001b[0;36mNode.__init__\u001b[1;34m(slef)\u001b[0m\n\u001b[0;32m     <a href='vscode-notebook-cell:/c%3A/Users/USER/Desktop/py/Ex20172380.ipynb#ch0000000?line=10'>11</a>\u001b[0m \u001b[39mdef\u001b[39;00m \u001b[39m__init__\u001b[39m(slef):    \n\u001b[1;32m---> <a href='vscode-notebook-cell:/c%3A/Users/USER/Desktop/py/Ex20172380.ipynb#ch0000000?line=11'>12</a>\u001b[0m     \u001b[39mself\u001b[39;49m\u001b[39m.\u001b[39mdata \u001b[39m=\u001b[39m \u001b[39mNone\u001b[39;00m\n\u001b[0;32m     <a href='vscode-notebook-cell:/c%3A/Users/USER/Desktop/py/Ex20172380.ipynb#ch0000000?line=12'>13</a>\u001b[0m     \u001b[39mself\u001b[39m\u001b[39m.\u001b[39mlink \u001b[39m=\u001b[39m \u001b[39mNone\u001b[39;00m\n",
      "\u001b[1;31mNameError\u001b[0m: name 'self' is not defined"
     ]
    }
   ],
   "source": [
    "# 앞뒤 어느쪽에서 읽어도 동일한 단어 ex.eye\n",
    "# 회문인지 아닌지 작성\n",
    "#조건#1. 'input' 등의 함수를 사용하여 사용자로 부터 임의의 단어를 입력받고, 그 단어가 회문인지 아닌지를 출력해야한다.\n",
    "#조건#2. 연결리스트를 활용해야하므로 반드시 아래의 클래스를 사용하시오.\n",
    "# class Node():\n",
    "# def __init__(self):\n",
    "# self.data=None\n",
    "# self.link=None\n",
    "# 조건#3. 최종출력은 '회문입니다.' 또는 '회문이 아닙니다.' 가 출력되어야한다.\n",
    "class Node:\n",
    "    def __init__(slef):    \n",
    "        self.data = None\n",
    "        self.link = None\n",
    "    \n",
    "\n",
    "data = [input(str('단어를 입력하세요: '))]\n",
    "data\n",
    "node1 = Node()\n"
   ]
  },
  {
   "cell_type": "code",
   "execution_count": null,
   "metadata": {},
   "outputs": [],
   "source": []
  }
 ],
 "metadata": {
  "interpreter": {
   "hash": "cfcfbbd76e88e95dc35e2ca9edf0c1e882d0553cc29bc4cac8c0f4eabeb0ecb9"
  },
  "kernelspec": {
   "display_name": "Python 3.10.2 64-bit",
   "language": "python",
   "name": "python3"
  },
  "language_info": {
   "codemirror_mode": {
    "name": "ipython",
    "version": 3
   },
   "file_extension": ".py",
   "mimetype": "text/x-python",
   "name": "python",
   "nbconvert_exporter": "python",
   "pygments_lexer": "ipython3",
   "version": "3.10.2"
  },
  "orig_nbformat": 4
 },
 "nbformat": 4,
 "nbformat_minor": 2
}
