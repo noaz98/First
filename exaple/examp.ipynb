{
 "cells": [
  {
   "cell_type": "code",
   "execution_count": null,
   "metadata": {},
   "outputs": [
    {
     "name": "stdout",
     "output_type": "stream",
     "text": [
      "0.04929884553376085\n",
      "0.5735813288230829\n",
      "0\n",
      "126\n",
      "8\n",
      "28\n"
     ]
    }
   ],
   "source": [
    "from random import *\n",
    "print(random()) #0.0 ~ 1.0 사이의 임의의 값 생성\n",
    "print(random()*10) # 0.0 ~ 10.0\n",
    "print(int(random()))\n",
    "print(int(random()*100) + 100)\n",
    "\n",
    "print(randrange(1,46)) #randrange 1~45까지 임의의 수 출력\n",
    "print(randint(1,45))#randint 위와 동일\n"
   ]
  },
  {
   "cell_type": "code",
   "execution_count": null,
   "metadata": {},
   "outputs": [
    {
     "name": "stdout",
     "output_type": "stream",
     "text": [
      "오프라인 스터디 모임 날짜는 매월11 일로 선정되었습니다.\n"
     ]
    }
   ],
   "source": [
    "#Quiz) 당신은 최근에 코딩 스터디 모임을 새로 만들었습니다.\n",
    "#월 4회 스터디를 하는데 3번은 온라인으로 하고 1번은 오프라인으로 하기로 했습니다.\n",
    "#아래 조건에 맞는 오프라인 모임 날짜를 정해주는 프로그램을 작성하시오.\n",
    "\n",
    "from random import *\n",
    "date = randint(4,28)\n",
    "print(\"오프라인 스터디 모임 날짜는 매월\"+str(date)+\" 일로 선정되었습니다.\")\n"
   ]
  },
  {
   "cell_type": "code",
   "execution_count": null,
   "metadata": {},
   "outputs": [
    {
     "name": "stdout",
     "output_type": "stream",
     "text": [
      "나는 소년입니다.\n",
      "파이썬은 쉽습니다.\n",
      "나는 소년이고,\n",
      " 파이썬은 쉽습니다\n"
     ]
    }
   ],
   "source": [
    "sentence = '나는 소년입니다.'\n",
    "print(sentence)\n",
    "sentence2 = '파이썬은 쉽습니다.'\n",
    "print(sentence2)\n",
    "sentence3 = \"\"\"나는 소년이고,\n",
    " 파이썬은 쉽습니다\"\"\"\n",
    "print(sentence3)"
   ]
  },
  {
   "cell_type": "code",
   "execution_count": null,
   "metadata": {},
   "outputs": [
    {
     "name": "stdout",
     "output_type": "stream",
     "text": [
      "성별: 1\n",
      "연도 :99\n",
      "월: 01\n",
      "일: 20\n",
      "생년월일: 990120\n",
      "뒤 7자리: 1234567\n",
      "뒤 7자리(뒤에서부터): 1234567\n"
     ]
    }
   ],
   "source": [
    "#Slicing\n",
    "number = \"990120-1234567\"\n",
    "print(\"성별: \"+ number[7])\n",
    "print(\"연도 :\"+ number[0:2])\n",
    "print(\"월: \"+number[2:4])\n",
    "print(\"일: \"+number[4:6])\n",
    "print(\"생년월일: \"+number[:6])\n",
    "print(\"뒤 7자리: \"+number[7:])\n",
    "print(\"뒤 7자리(뒤에서부터): \"+number[-7:]) #맨 뒤에서부터 7번재"
   ]
  },
  {
   "cell_type": "code",
   "execution_count": null,
   "metadata": {},
   "outputs": [
    {
     "name": "stdout",
     "output_type": "stream",
     "text": [
      "python is amazing\n",
      "PYTHON IS AMAZING\n",
      "True\n",
      "17\n",
      "Java is Amazing\n",
      "5\n",
      "15\n",
      "-1\n",
      "2\n"
     ]
    }
   ],
   "source": [
    "python = 'Python is Amazing'\n",
    "print(python.lower()) #소문자 출력 \n",
    "print(python.upper()) #대문자\n",
    "print(python[0].isupper())#변수 0번째의 값이 대문자면 true\n",
    "print(len(python)) #길이\n",
    "print(python.replace('Python','Java')) #원하는 문자열 변경 replace('기존 문자열','원하는 문자')\n",
    "\n",
    "index  = python.index('n')\n",
    "print(index)\n",
    "index = python.index('n',index + 1)\n",
    "print(index)\n",
    "print(python.find('Java')) #원하는 값이 없을 경우 -1출력\n",
    "# print(python.index('Java')) #원하는 값이 없을 경우 오류\n",
    "print(python.count('n')) #변수 안에서 n 몇번 있는지 출력"
   ]
  },
  {
   "cell_type": "code",
   "execution_count": null,
   "metadata": {},
   "outputs": [
    {
     "name": "stdout",
     "output_type": "stream",
     "text": [
      "나는 20 살입니다\n",
      "나는 Python를 좋아해요\n",
      "Appled은 a로 시작해요.\n",
      "나는 20살입니다.\n",
      "나는 파란색과 10색을 좋아해요,\n",
      "나는20살입니다\n",
      "나는 빨간색을 좋아하는 25살 남자입니다.\n",
      "나는 25색을 좋아하는 빨간살 남자입니다.\n",
      "나는 20살이며,빨간색을 좋아해요\n",
      "나는 25살이며,Red색을 좋아해요\n"
     ]
    }
   ],
   "source": [
    "print(\"나는 %d 살입니다\"% 20)#정수형 변수 d\n",
    "print(\"나는 %s를 좋아해요\"% 'Python')#문자형 변수 s\n",
    "print(\"Appled은 %c로 시작해요.\"%\"a\")#문자 변수 c\n",
    "print(\"나는 %s살입니다.\"%20)\n",
    "print(\"나는 %s색과 %s색을 좋아해요,\"%(\"파란\",10))\n",
    "# %s를 쓸 경우 어느 변수형에 상관없이 모두 출력 가능\n",
    "print(\"나는{}살입니다\".format(20)) #format 안에 있는 값을 {}안에 대입\n",
    "print(\"나는 {}색을 좋아하는 {}살 남자입니다.\".format(\"빨간\",25))\n",
    "print(\"나는 {1}색을 좋아하는 {0}살 남자입니다.\".format(\"빨간\",25))\n",
    "#중괄호 안에 숫자를 넣어서 원하는 입력값 출력 가능\n",
    "\n",
    "print(\"나는 {age}살이며,{color}색을 좋아해요\".format(age=20,color=\"빨간\"))\n",
    "#format 함수 안에 변수를 저장 함으로써 원하는 변수를 중괄호 안에 대입하여 출력 가능\n",
    "\n",
    "age = 25\n",
    "color = 'Red'\n",
    "print(f\"나는 {age}살이며,{color}색을 좋아해요\")\n",
    "#변수에 미리 저장한 값을 print(f'')로 format과 동일하게 출력이 가능하다."
   ]
  },
  {
   "cell_type": "code",
   "execution_count": null,
   "metadata": {},
   "outputs": [
    {
     "name": "stdout",
     "output_type": "stream",
     "text": [
      "다현 정연 사나 지효 "
     ]
    }
   ],
   "source": [
    "class Node():\n",
    "    def __init__(self):\n",
    "        self.data = None\n",
    "        self.link = None\n",
    "\n",
    "node1 = Node()\n",
    "node1.data = '다현'\n",
    "print(node1.data,end=\" \")\n",
    "\n",
    "node2 = Node()\n",
    "node2.data = '정연'\n",
    "node1.link = node2\n",
    "\n",
    "node3 = Node()\n",
    "node3.data = '쯔위'\n",
    "node2.link = node3\n",
    "\n",
    "node4 = Node()\n",
    "node4.data = '사나'\n",
    "node3.link = node4\n",
    "\n",
    "node5 = Node()\n",
    "node5.data = '지효'\n",
    "node4.link = node5\n",
    "\n",
    "node2.link = node3.link\n",
    "del(node3)\n",
    "\n",
    "current = node1\n",
    "while current.link != None:\n",
    "    current = current.link\n",
    "    print(current.data,end=' ')"
   ]
  },
  {
   "cell_type": "code",
   "execution_count": 2,
   "metadata": {},
   "outputs": [
    {
     "name": "stdout",
     "output_type": "stream",
     "text": [
      "나는 \"권민호\"입니다\n",
      "\\v\\v\u000b\u000b\n",
      "kwon\n",
      "kwon \tminho\n"
     ]
    }
   ],
   "source": [
    "print('나는 \\\"권민호\\\"입니다')\n",
    "print(\"\\\\v\\\\v\\v\\v\")\n",
    "print(\"mino\\rkwon\")\n",
    "print(\"kwon \\tminho\")"
   ]
  },
  {
   "cell_type": "code",
   "execution_count": 20,
   "metadata": {},
   "outputs": [
    {
     "name": "stdout",
     "output_type": "stream",
     "text": [
      "http://naver.com의 비밀번호는 nav51!입니다.\n"
     ]
    }
   ],
   "source": [
    "site = 'http://naver.com'\n",
    "rm_site = site.replace('http://','')\n",
    "# print(rm_site)\n",
    "rm_site =rm_site[:rm_site.index('.')] #rm_site에서 .이 존재(index)하는 직전까지 슬라이싱\n",
    "# print(rm_site)\n",
    "password = rm_site[:3] + str(len(rm_site)) + str(rm_site.count('e')) + '!'\n",
    "\n",
    "print(f\"{site}의 비밀번호는 {password}입니다.\")"
   ]
  },
  {
   "cell_type": "code",
   "execution_count": null,
   "metadata": {},
   "outputs": [],
   "source": [
    "2"
   ]
  }
 ],
 "metadata": {
  "interpreter": {
   "hash": "cfcfbbd76e88e95dc35e2ca9edf0c1e882d0553cc29bc4cac8c0f4eabeb0ecb9"
  },
  "kernelspec": {
   "display_name": "Python 3.10.2 64-bit",
   "language": "python",
   "name": "python3"
  },
  "language_info": {
   "codemirror_mode": {
    "name": "ipython",
    "version": 3
   },
   "file_extension": ".py",
   "mimetype": "text/x-python",
   "name": "python",
   "nbconvert_exporter": "python",
   "pygments_lexer": "ipython3",
   "version": "3.10.2"
  },
  "orig_nbformat": 4
 },
 "nbformat": 4,
 "nbformat_minor": 2
}
